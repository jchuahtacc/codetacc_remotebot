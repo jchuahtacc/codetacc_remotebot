{
 "cells": [
  {
   "cell_type": "markdown",
   "metadata": {},
   "source": [
    "# This cell does this\n",
    "\n",
    "by doing some stuff\n",
    "here's a pic lol"
   ]
  },
  {
   "cell_type": "code",
   "execution_count": 1,
   "metadata": {},
   "outputs": [
    {
     "name": "stdout",
     "output_type": "stream",
     "text": [
      "Sending to 10.146.123.122\n"
     ]
    }
   ],
   "source": [
    "import remotebot\n",
    "\n",
    "def left():\n",
    "    import time\n",
    "    time.sleep(2)\n",
    "    echo(\"left\")\n",
    "    \n",
    "    \n",
    "remotebot.send(left, \"10.146.123.122\")"
   ]
  },
  {
   "cell_type": "code",
   "execution_count": 2,
   "metadata": {},
   "outputs": [
    {
     "name": "stdout",
     "output_type": "stream",
     "text": [
      "Sending to 10.146.123.122\n"
     ]
    }
   ],
   "source": [
    "\n",
    "import remotebot\n",
    "\n",
    "def right():\n",
    "    import time\n",
    "    time.sleep(2)\n",
    "    echo(\"right\")\n",
    "    \n",
    "    \n",
    "remotebot.send(right, \"10.146.123.122\")"
   ]
  },
  {
   "cell_type": "code",
   "execution_count": 2,
   "metadata": {},
   "outputs": [
    {
     "name": "stdout",
     "output_type": "stream",
     "text": [
      "Sending to 10.146.123.122\n"
     ]
    }
   ],
   "source": [
    "remotebot.send(runme, \"10.146.123.122\")\n"
   ]
  }
 ],
 "metadata": {
  "kernelspec": {
   "display_name": "Python 3",
   "language": "python",
   "name": "python3"
  },
  "language_info": {
   "codemirror_mode": {
    "name": "ipython",
    "version": 3
   },
   "file_extension": ".py",
   "mimetype": "text/x-python",
   "name": "python",
   "nbconvert_exporter": "python",
   "pygments_lexer": "ipython3",
   "version": "3.6.4"
  }
 },
 "nbformat": 4,
 "nbformat_minor": 2
}
